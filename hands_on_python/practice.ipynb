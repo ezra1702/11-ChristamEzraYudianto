{
 "cells": [
  {
   "cell_type": "markdown",
   "id": "609c7d0913b26a99",
   "metadata": {},
   "source": [
    "# PRACTICE TIME!! &#128074;\n",
    "\n",
    "![meme](https://media.giphy.com/media/13rQ7rrTrvZXlm/giphy.gif?cid=790b7611tbr19hibmoipc9i7bd6u754u1l2a831y9hbjcsd8&ep=v1_gifs_search&rid=giphy.gif&ct=g)\n",
    "\n",
    "### And one more thing...\n",
    "\n",
    "try to not open Gen AI tools if you are stuck okayy >_<"
   ]
  },
  {
   "cell_type": "markdown",
   "id": "3af06eb55927dedc",
   "metadata": {},
   "source": [
    "# Easy level\n",
    "### Test case 1 : write a function to check if a number is even or odd\n",
    "\n",
    "***You can only write 1 line in a function***"
   ]
  },
  {
   "cell_type": "code",
   "execution_count": 2,
   "id": "6d7c24b7bcc5b80d",
   "metadata": {
    "ExecuteTime": {
     "end_time": "2025-02-07T08:50:23.736158Z",
     "start_time": "2025-02-07T08:50:23.732847Z"
    }
   },
   "outputs": [
    {
     "name": "stdout",
     "output_type": "stream",
     "text": [
      "Even Number\n",
      "Odd Number\n"
     ]
    }
   ],
   "source": [
    "# write and continue the code down here\n",
    "def checkNumber(x):\n",
    "    return \"Even Number\" if x % 2 == 0 else \"Odd Number\"\n",
    "\n",
    "# Test\n",
    "print(checkNumber(4))  # Expected: Even\n",
    "print(checkNumber(7))  # Expected: Odd\n",
    "\n"
   ]
  },
  {
   "cell_type": "markdown",
   "id": "a883ea0dbe17769c",
   "metadata": {},
   "source": [
    "# Medium level\n",
    "\n",
    "### Test case 2 : write a function to check for anagrams\n",
    "\n",
    "Checks if two strings are anagrams by comparing their sorted characters.\n",
    "\n"
   ]
  },
  {
   "cell_type": "code",
   "execution_count": 4,
   "id": "279b3b0bb509fc93",
   "metadata": {
    "ExecuteTime": {
     "end_time": "2025-02-08T07:41:36.884705Z",
     "start_time": "2025-02-08T07:41:36.879705Z"
    }
   },
   "outputs": [
    {
     "name": "stdout",
     "output_type": "stream",
     "text": [
      "True\n",
      "False\n"
     ]
    }
   ],
   "source": [
    "def anagrams(str1, str2):\n",
    "    return sorted(str1) == sorted(str2)\n",
    "\n",
    "# # Test\n",
    "print(anagrams(\"listen\", \"silent\"))  # Expected: True\n",
    "print(anagrams(\"hello\", \"world\"))    # Expected: False"
   ]
  },
  {
   "cell_type": "markdown",
   "id": "5be0a99705f164a9",
   "metadata": {},
   "source": [
    "# Medium level\n",
    "### Test case 3 : write a function to calculate the factorial of a number"
   ]
  },
  {
   "cell_type": "code",
   "execution_count": 5,
   "id": "3a5dfba656b0ae8d",
   "metadata": {},
   "outputs": [
    {
     "name": "stdout",
     "output_type": "stream",
     "text": [
      "120\n",
      "1\n"
     ]
    }
   ],
   "source": [
    "def factorial(x):\n",
    "    return 1 if x == 0 else x * factorial(x - 1)\n",
    "#\n",
    "# # Test\n",
    "print(factorial(5))  # Expected: 120\n",
    "print(factorial(0))  # Expected: 1"
   ]
  },
  {
   "cell_type": "markdown",
   "id": "91e9e53f463c85b3",
   "metadata": {},
   "source": [
    "# Hard level\n",
    "### Test case 4 : write a function if a string is a palindrome\n",
    "\n",
    "***Only 1 line of code is permitted in a function***"
   ]
  },
  {
   "cell_type": "code",
   "execution_count": 7,
   "id": "38c87a81a904a09d",
   "metadata": {
    "ExecuteTime": {
     "end_time": "2025-02-08T07:58:37.038581Z",
     "start_time": "2025-02-08T07:58:37.033123Z"
    }
   },
   "outputs": [
    {
     "name": "stdout",
     "output_type": "stream",
     "text": [
      "True\n",
      "False\n",
      "True\n"
     ]
    }
   ],
   "source": [
    "def palindrome(x):\n",
    "     return x == x[::-1]\n",
    "\n",
    "# Test\n",
    "print(palindrome(\"racecar\"))  # Expected: True\n",
    "print(palindrome(\"python\"))   # Expected: False\n",
    "print(palindrome(\"habibah\")) # Expected : True"
   ]
  },
  {
   "cell_type": "markdown",
   "id": "2a48d58b92c9ecff",
   "metadata": {},
   "source": [
    "# Expert level\n",
    "### Test case 5 : create a class to represent a Bank Account with deposit and withdrawal methods"
   ]
  },
  {
   "cell_type": "code",
   "execution_count": 10,
   "id": "d8cb2ddeda85fa11",
   "metadata": {
    "ExecuteTime": {
     "end_time": "2025-02-09T16:18:19.041012Z",
     "start_time": "2025-02-09T16:18:19.035604Z"
    }
   },
   "outputs": [
    {
     "name": "stdout",
     "output_type": "stream",
     "text": [
      "Deposited 1000. New balance: 1000\n",
      "Withdrew 500. New balance: 500\n",
      "Invalid withdrawal amount or insufficient funds\n"
     ]
    }
   ],
   "source": [
    "class BankAccount:\n",
    "    def __init__(self, money=0):\n",
    "        self.money = money\n",
    "\n",
    "    def deposit(self, money):\n",
    "        self.money += money\n",
    "        return f\"Deposited {money}. New balance: {self.money}\"\n",
    "\n",
    "    def withdraw(self, money):\n",
    "        if money > self.money:\n",
    "            return \"Invalid withdrawal amount or insufficient funds\"\n",
    "        self.money -= money\n",
    "        return f\"Withdrew {money}. New balance: {self.money}\"\n",
    "\n",
    "# Test\n",
    "account = BankAccount(0)\n",
    "print(account.deposit(1000))   # Expected: Deposited 1000. New balance: 1000\n",
    "print(account.withdraw(500))   # Expected: Withdrew 500. New balance: 500\n",
    "print(account.withdraw(600))   # Expected: Invalid withdrawal amount or insufficient funds"
   ]
  }
 ],
 "metadata": {
  "kernelspec": {
   "display_name": "base",
   "language": "python",
   "name": "python3"
  },
  "language_info": {
   "codemirror_mode": {
    "name": "ipython",
    "version": 3
   },
   "file_extension": ".py",
   "mimetype": "text/x-python",
   "name": "python",
   "nbconvert_exporter": "python",
   "pygments_lexer": "ipython3",
   "version": "3.12.3"
  }
 },
 "nbformat": 4,
 "nbformat_minor": 5
}
