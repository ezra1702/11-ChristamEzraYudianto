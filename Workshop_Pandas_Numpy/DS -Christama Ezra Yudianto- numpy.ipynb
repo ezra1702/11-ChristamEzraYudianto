{
 "cells": [
  {
   "cell_type": "markdown",
   "id": "d947b9cf-215c-4b18-a0b8-963556c547c7",
   "metadata": {},
   "source": [
    "# **TUGAS NUMPY**\n",
    "\n",
    "---\n",
    "\n",
    "Nama: Christama Ezra Yudianto\n",
    "\n",
    "NIM: 245150307111009"
   ]
  },
  {
   "cell_type": "markdown",
   "id": "392630c3-e396-4dde-8258-cfd1085fd39d",
   "metadata": {},
   "source": [
    "Setelah mengikuti workshop Numpy dan Pandas, tentunya kalian sudah mulai memahami hal-hal apa saja yang akan dilakukan oleh Data Scientist dengan Numpy. Sekarang, saatnya mengukur kemampuan kalian dari apa yang telah kalian dapatkan pada workshop sebelumnya.\n",
    "\n",
    "**Deadline: Jumat, 21 Februari 2025**\n"
   ]
  },
  {
   "cell_type": "markdown",
   "id": "eca339fb-851e-47d9-92a3-8811c04207ed",
   "metadata": {},
   "source": [
    "# **📊 Numpy Exercise 📊**\n",
    "\n",
    "Selamat datang di latihan eksplorasi data menggunakan **Numpy**!  \n",
    "\n",
    "---"
   ]
  },
  {
   "cell_type": "markdown",
   "id": "ee73dcd6-dd10-4c9c-88ca-0eab4af9f337",
   "metadata": {},
   "source": [
    "## **📌 Soal 1: Regresi Linear** 📝\n",
    "\n",
    "Saat offline/online assessment kemarin ada persoalaan **Regresi Linear**, nah coba kamu buat menggunakan python dan numpy termasuk poin-poin berikut: <br>\n",
    "✅ Fungsi regresi mampu menerima array A dan array B dan memprediksi slope dan intercept<br>\n",
    "✅ Fungsi regresi mampu memprediksi nilai baru jika diberikan nilai X <br>"
   ]
  },
  {
   "cell_type": "code",
   "execution_count": 25,
   "id": "cbc3cb08-4559-41f8-ad23-1889bd6b5e7d",
   "metadata": {},
   "outputs": [
    {
     "name": "stdout",
     "output_type": "stream",
     "text": [
      "Slope: 0.6, Intercept: 2.2\n",
      "Prediksi nilai untuk X=6: 5.8\n"
     ]
    }
   ],
   "source": [
    "import numpy as np\n",
    "\n",
    "A = np.array([1, 2, 3, 4, 5])\n",
    "B = np.array([2, 4, 5, 4, 5])\n",
    "\n",
    "n = len(A)\n",
    "mean_A = np.mean(A)\n",
    "mean_B = np.mean(B)\n",
    "\n",
    "slope = np.sum((A - mean_A) * (B - mean_B)) / np.sum((A - mean_A) ** 2)\n",
    "intercept = mean_B - slope * mean_A\n",
    "\n",
    "print(f\"Slope: {slope}, Intercept: {intercept}\")\n",
    "\n",
    "X_new = 6\n",
    "predicted_Y = slope * X_new + intercept\n",
    "print(f\"Prediksi nilai untuk X={X_new}: {predicted_Y}\")\n"
   ]
  },
  {
   "cell_type": "markdown",
   "id": "a01ab4fc-cd05-4c79-bc0e-35f2412477d2",
   "metadata": {},
   "source": [
    "## **📌 Soal 2: Regresi Polinomial** 📝\n",
    "\n",
    "Saat offline/online assessment kemarin ada persoalan **Regresi Linear**, nah sekarang coba kamu buat **Regresi Polinomial** menggunakan Python dan NumPy, termasuk poin-poin berikut:<br>\n",
    "✅ Fungsi regresi mampu menerima array A dan array B serta menyesuaikan data dengan polinomial derajat tertentu.<br>\n",
    "✅ Fungsi regresi mampu memprediksi nilai baru jika diberikan nilai X.<br>\n",
    "✅ Hasil regresi mencetak koefisien polinomial yang dihasilkan.<br>"
   ]
  },
  {
   "cell_type": "code",
   "execution_count": 26,
   "id": "efaa13de-f42c-43e8-b726-3d4d849807ad",
   "metadata": {},
   "outputs": [
    {
     "name": "stdout",
     "output_type": "stream",
     "text": [
      "Koefisien Polinomial: [-0.28571429  2.31428571  0.2       ]\n",
      "Prediksi nilai untuk X=6: 3.80\n"
     ]
    }
   ],
   "source": [
    "\n",
    "A = np.array([1, 2, 3, 4, 5])\n",
    "B = np.array([2, 4, 5, 4, 5])\n",
    "\n",
    "degree = 2  \n",
    "coefficients = np.polyfit(A, B, degree)\n",
    "\n",
    "print(f\"Koefisien Polinomial: {coefficients}\")\n",
    "\n",
    "X_new = 6\n",
    "predicted_Y = np.polyval(coefficients, X_new)\n",
    "print(f\"Prediksi nilai untuk X={X_new}: {predicted_Y:.2f}\")"
   ]
  },
  {
   "cell_type": "markdown",
   "id": "e187c964-3ab2-4ae3-a52c-4e6052c30911",
   "metadata": {},
   "source": [
    "## **📌 Soal 3: Random Values Array** 📝\n",
    "\n",
    "Pertama-tama, buatlah **Array Integer 10x10x10** dengan elemen **random** dan carikan:<br>\n",
    "1️⃣ Cari elemen minimum dan maksimum dalam array tersebut?<br>\n",
    "2️⃣ Carilah rata-rata dan median seluruh elemen dalam array tersebut?<br>"
   ]
  },
  {
   "cell_type": "code",
   "execution_count": 27,
   "id": "c7cd0420-9393-449a-bcec-e5947b24b327",
   "metadata": {},
   "outputs": [
    {
     "name": "stdout",
     "output_type": "stream",
     "text": [
      "Elemen Minimum: 0\n",
      "Elemen Maksimum: 99\n"
     ]
    }
   ],
   "source": [
    "random_array = np.random.randint(0, 100, (10, 10, 10))\n",
    "\n",
    "min_value = np.min(random_array)\n",
    "max_value = np.max(random_array)\n",
    "print(f\"Elemen Minimum: {min_value}\")\n",
    "print(f\"Elemen Maksimum: {max_value}\")"
   ]
  },
  {
   "cell_type": "code",
   "execution_count": 28,
   "id": "923eb346",
   "metadata": {},
   "outputs": [
    {
     "name": "stdout",
     "output_type": "stream",
     "text": [
      "Rata-rata: 48.724\n",
      "Median: 48.0\n"
     ]
    }
   ],
   "source": [
    "mean_value = np.mean(random_array)\n",
    "median_value = np.median(random_array)\n",
    "print(f\"Rata-rata: {mean_value}\")\n",
    "print(f\"Median: {median_value}\")\n"
   ]
  },
  {
   "cell_type": "markdown",
   "id": "1f248c96-688d-462a-b41e-5a2275be5fde",
   "metadata": {},
   "source": [
    "## **📌 Soal 4: 2D Array Shenanigans** 📝\n",
    "\n",
    "Tugas kamu disini adalah membuat **Array 2D** sesuai ketentuan masing-masing soal: <br>\n",
    "1️⃣ Buatlah **array 10x10** yang memiliki angka \"5\" sebagai bingkai di seluruh tepi luar dan bagian dalam (selain array) berisi \"8\"? <br>\n",
    "2️⃣ Buatlah **array 2d 8x8** dengan pola seperti **checkboard/catur** (1 untuk kotak hitam, 0 untuk kotak putih)?<br>\n",
    "3️⃣ Buatlah **array 2d 15x15** dengan aturan sebagai berikut:\n",
    "- Jika suatu angka dapat dibagi 2, isi dengan 2.\n",
    "- Jika suatu angka dapat dibagi 3, isi dengan 3.\n",
    "- Jika suatu angka dapat dibagi 5, isi dengan 5.\n",
    "- Jika suatu angka dapat dibagi oleh lebih dari satu kondisi (misal, 6 bisa dibagi 2 & 3), maka simpan gabungan angka tersebut (misal, 6 → \"23\", 15 → \"35\").\n",
    "- Jika tidak memenuhi kondisi apa pun, isi dengan 0."
   ]
  },
  {
   "cell_type": "code",
   "execution_count": 29,
   "id": "e4974640-df15-43f7-9ae5-fdc8ff8f47dd",
   "metadata": {},
   "outputs": [
    {
     "name": "stdout",
     "output_type": "stream",
     "text": [
      "Array 10x10 dengan bingkai 5:\n",
      "[['5' '5' '5' '5' '5' '5' '5' '5' '5' '5']\n",
      " ['5' '8' '8' '8' '8' '8' '8' '8' '8' '5']\n",
      " ['5' '8' '8' '8' '8' '8' '8' '8' '8' '5']\n",
      " ['5' '8' '8' '8' '8' '8' '8' '8' '8' '5']\n",
      " ['5' '8' '8' '8' '8' '8' '8' '8' '8' '5']\n",
      " ['5' '8' '8' '8' '8' '8' '8' '8' '8' '5']\n",
      " ['5' '8' '8' '8' '8' '8' '8' '8' '8' '5']\n",
      " ['5' '8' '8' '8' '8' '8' '8' '8' '8' '5']\n",
      " ['5' '8' '8' '8' '8' '8' '8' '8' '8' '5']\n",
      " ['5' '5' '5' '5' '5' '5' '5' '5' '5' '5']]\n"
     ]
    }
   ],
   "source": [
    "arr1 = np.full((10, 10), '8', dtype=str)  \n",
    "arr1[0, :] = arr1[-1, :] = '5'  \n",
    "arr1[:, 0] = arr1[:, -1] = '5'  \n",
    "print(\"Array 10x10 dengan bingkai 5:\")\n",
    "print(arr1)"
   ]
  },
  {
   "cell_type": "code",
   "execution_count": 30,
   "id": "0af5bcce-4fe7-489e-a23e-24e7ca11108f",
   "metadata": {},
   "outputs": [
    {
     "name": "stdout",
     "output_type": "stream",
     "text": [
      "\n",
      "Array 8x8 pola catur:\n",
      "[[0 1 0 1 0 1 0 1]\n",
      " [1 0 1 0 1 0 1 0]\n",
      " [0 1 0 1 0 1 0 1]\n",
      " [1 0 1 0 1 0 1 0]\n",
      " [0 1 0 1 0 1 0 1]\n",
      " [1 0 1 0 1 0 1 0]\n",
      " [0 1 0 1 0 1 0 1]\n",
      " [1 0 1 0 1 0 1 0]]\n"
     ]
    }
   ],
   "source": [
    "arr2 = np.zeros((8, 8), dtype=int)  \n",
    "arr2[1::2, ::2] = 1  \n",
    "arr2[::2, 1::2] = 1  \n",
    "print(\"\\nArray 8x8 pola catur:\")\n",
    "print(arr2)"
   ]
  },
  {
   "cell_type": "code",
   "execution_count": 31,
   "id": "5e591f0a-78d8-47e4-97d5-d56bff180984",
   "metadata": {},
   "outputs": [
    {
     "name": "stdout",
     "output_type": "stream",
     "text": [
      "\n",
      "Array 15x15 dengan aturan pembagian:\n",
      "[['235' '0' '2' '3' '2' '5' '23' '0' '2' '3' '25' '0' '23' '0' '2']\n",
      " ['35' '2' '0' '23' '0' '25' '3' '2' '0' '23' '5' '2' '3' '2' '0']\n",
      " ['235' '0' '2' '3' '2' '5' '23' '0' '2' '3' '25' '0' '23' '0' '2']\n",
      " ['35' '2' '0' '23' '0' '25' '3' '2' '0' '23' '5' '2' '3' '2' '0']\n",
      " ['235' '0' '2' '3' '2' '5' '23' '0' '2' '3' '25' '0' '23' '0' '2']\n",
      " ['35' '2' '0' '23' '0' '25' '3' '2' '0' '23' '5' '2' '3' '2' '0']\n",
      " ['235' '0' '2' '3' '2' '5' '23' '0' '2' '3' '25' '0' '23' '0' '2']\n",
      " ['35' '2' '0' '23' '0' '25' '3' '2' '0' '23' '5' '2' '3' '2' '0']\n",
      " ['235' '0' '2' '3' '2' '5' '23' '0' '2' '3' '25' '0' '23' '0' '2']\n",
      " ['35' '2' '0' '23' '0' '25' '3' '2' '0' '23' '5' '2' '3' '2' '0']\n",
      " ['235' '0' '2' '3' '2' '5' '23' '0' '2' '3' '25' '0' '23' '0' '2']\n",
      " ['35' '2' '0' '23' '0' '25' '3' '2' '0' '23' '5' '2' '3' '2' '0']\n",
      " ['235' '0' '2' '3' '2' '5' '23' '0' '2' '3' '25' '0' '23' '0' '2']\n",
      " ['35' '2' '0' '23' '0' '25' '3' '2' '0' '23' '5' '2' '3' '2' '0']\n",
      " ['235' '0' '2' '3' '2' '5' '23' '0' '2' '3' '25' '0' '23' '0' '2']]\n"
     ]
    }
   ],
   "source": [
    "arr3 = np.zeros((15, 15), dtype=object)  \n",
    "for i in range(15):\n",
    "    for j in range(15):\n",
    "        num = i * 15 + j \n",
    "        divisors = ''\n",
    "        if num % 2 == 0:\n",
    "            divisors += '2'\n",
    "        if num % 3 == 0:\n",
    "            divisors += '3'\n",
    "        if num % 5 == 0:\n",
    "            divisors += '5'\n",
    "        arr3[i, j] = divisors if divisors else '0'\n",
    "print(\"\\nArray 15x15 dengan aturan pembagian:\")\n",
    "print(arr3)\n"
   ]
  },
  {
   "cell_type": "markdown",
   "id": "4b963ba6-4272-4773-ab58-33ade2e536bd",
   "metadata": {},
   "source": [
    "## **📌 Soal 5: Time & Date** 📝\n",
    "\n",
    "Kamu disini diminta untuk memanfaatkan fitur numpy untuk tanggal: <br>\n",
    "1️⃣ Bagaimana dengan numpy, kamu bisa mendapatkan tanggal hari ini, kemarin dan esok hari?<br>\n",
    "2️⃣ Tampilkan hari yang ada di bulan Mei tahun 2020?<br>"
   ]
  },
  {
   "cell_type": "code",
   "execution_count": 32,
   "id": "ac7ccf05-97da-484f-96c9-fc578e62bbbe",
   "metadata": {},
   "outputs": [
    {
     "name": "stdout",
     "output_type": "stream",
     "text": [
      "Tanggal hari ini: 2025-02-21\n",
      "Tanggal kemarin: 2025-02-20\n",
      "Tanggal besok: 2025-02-22\n"
     ]
    }
   ],
   "source": [
    "today = np.datetime64('today', 'D')\n",
    "yesterday = today - np.timedelta64(1, 'D')\n",
    "tomorrow = today + np.timedelta64(1, 'D')\n",
    "\n",
    "print(\"Tanggal hari ini:\", today)\n",
    "print(\"Tanggal kemarin:\", yesterday)\n",
    "print(\"Tanggal besok:\", tomorrow)"
   ]
  },
  {
   "cell_type": "code",
   "execution_count": 33,
   "id": "21715e80",
   "metadata": {},
   "outputs": [
    {
     "name": "stdout",
     "output_type": "stream",
     "text": [
      "Hari di bulan Mei 2020:  ['2020-05-01' '2020-05-02' '2020-05-03' '2020-05-04' '2020-05-05'\n",
      " '2020-05-06' '2020-05-07' '2020-05-08' '2020-05-09' '2020-05-10'\n",
      " '2020-05-11' '2020-05-12' '2020-05-13' '2020-05-14' '2020-05-15'\n",
      " '2020-05-16' '2020-05-17' '2020-05-18' '2020-05-19' '2020-05-20'\n",
      " '2020-05-21' '2020-05-22' '2020-05-23' '2020-05-24' '2020-05-25'\n",
      " '2020-05-26' '2020-05-27' '2020-05-28' '2020-05-29' '2020-05-30'\n",
      " '2020-05-31']\n"
     ]
    }
   ],
   "source": [
    "may_2020 = np.arange('2020-05', '2020-06', dtype='datetime64[D]')\n",
    "print(\"Hari di bulan Mei 2020: \", may_2020)\n"
   ]
  },
  {
   "cell_type": "markdown",
   "id": "eccc9d2f-8a7a-424c-ab89-ad5e52ca20a4",
   "metadata": {},
   "source": [
    "## **📌 Soal 6: Slicing** 📝\n",
    "\n",
    "Jika diketahui array `A`, maka buatlah program untuk mendapatkan elemen dibawah ini:\n",
    "```python\n",
    "A = np.array([\n",
    "    [10, 20, 30, 40, 50, 60],\n",
    "    [70, 80, 90, 100, 110, 120],\n",
    "    [130, 140, 150, 160, 170, 180],\n",
    "    [190, 200, 210, 220, 230, 240],\n",
    "    [250, 260, 270, 280, 290, 300]\n",
    "])\n",
    "```\n",
    "\n",
    "1️⃣ Ambil elemen yang berada pada baris `ke-4` dan kolom `ke-2` dari array `A` <br>\n",
    "2️⃣ Buat `array 2D` yang hanya berisi bilangan prima dari `A` <br>\n",
    "3️⃣ Ambil elemen-elemen yang berada di tepi luar dari array `A` dan gabungkan menjadi `Satu array 1D`. <br>\n",
    "4️⃣ Dapatkan subbarray berikut:\n",
    "```python\n",
    "[[20, 40, 60],\n",
    " [80, 100, 120],\n",
    " [140, 160, 180],\n",
    " [200, 220, 240],\n",
    " [260, 280, 300]]\n",
    "```\n",
    "5️⃣ Dapatkan subbarray berikut:\n",
    "```python\n",
    " [[30, 40],\n",
    " [90, 100],\n",
    " [150, 160],\n",
    " [210, 220]]\n",
    "```"
   ]
  },
  {
   "cell_type": "code",
   "execution_count": 34,
   "id": "e719e525-cf78-484e-9c40-a708a58b387e",
   "metadata": {},
   "outputs": [
    {
     "data": {
      "text/plain": [
       "200"
      ]
     },
     "execution_count": 34,
     "metadata": {},
     "output_type": "execute_result"
    }
   ],
   "source": [
    "A = np.array([\n",
    "    [10, 20, 30, 40, 50, 60],\n",
    "    [70, 80, 90, 100, 110, 120],\n",
    "    [130, 140, 150, 160, 170, 180],\n",
    "    [190, 200, 210, 220, 230, 240],\n",
    "    [250, 260, 270, 280, 290, 300]\n",
    "])\n",
    "A[3, 1]\n"
   ]
  },
  {
   "cell_type": "code",
   "execution_count": 35,
   "id": "f9b0d1e6-c30b-4828-8ad3-0a71367905ba",
   "metadata": {},
   "outputs": [
    {
     "name": "stdout",
     "output_type": "stream",
     "text": [
      "[]\n"
     ]
    }
   ],
   "source": [
    "def is_prime(n):\n",
    "    if n < 2:\n",
    "        return False\n",
    "    for i in range(2, int(n**0.5) + 1):\n",
    "        if n % i == 0:\n",
    "            return False\n",
    "    return True\n",
    "\n",
    "primes = A[np.vectorize(is_prime)(A)]\n",
    "print(primes.reshape(-1, 1))\n"
   ]
  },
  {
   "cell_type": "code",
   "execution_count": 36,
   "id": "cc637fd0-78d7-45f8-b4e8-dbde6c3e6dfc",
   "metadata": {},
   "outputs": [
    {
     "data": {
      "text/plain": [
       "array([ 10,  20,  30,  40,  50,  60, 120, 180, 240, 300, 290, 280, 270,\n",
       "       260, 250,  70, 130, 190])"
      ]
     },
     "execution_count": 36,
     "metadata": {},
     "output_type": "execute_result"
    }
   ],
   "source": [
    "np.concatenate((A[0, :], A[1:-1, -1], A[-1, ::-1], A[1:-1, 0]))"
   ]
  },
  {
   "cell_type": "code",
   "execution_count": 37,
   "id": "f52e24b4-98f6-41fe-9aab-8d9d243c16e1",
   "metadata": {},
   "outputs": [
    {
     "data": {
      "text/plain": [
       "array([[ 20,  40,  60],\n",
       "       [ 80, 100, 120],\n",
       "       [140, 160, 180],\n",
       "       [200, 220, 240],\n",
       "       [260, 280, 300]])"
      ]
     },
     "execution_count": 37,
     "metadata": {},
     "output_type": "execute_result"
    }
   ],
   "source": [
    "A[:, 1::2]"
   ]
  },
  {
   "cell_type": "code",
   "execution_count": 38,
   "id": "e991d7cc",
   "metadata": {},
   "outputs": [
    {
     "data": {
      "text/plain": [
       "array([[ 30,  40],\n",
       "       [ 90, 100],\n",
       "       [150, 160],\n",
       "       [210, 220]])"
      ]
     },
     "execution_count": 38,
     "metadata": {},
     "output_type": "execute_result"
    }
   ],
   "source": [
    "A[:4, 2:4]"
   ]
  },
  {
   "cell_type": "markdown",
   "id": "c69b198a-5558-4ca3-8dea-c5a8d1ca81e9",
   "metadata": {},
   "source": [
    "## **📌 Soal 7: Ekspansi Array** 📝\n",
    "\n",
    "Jika kamu memiliki array ***Z = [1,2,3,4,5,6,7,8,9,10,11,12,13,14]***, buatlah kode untuk membuat array R berupa: <br>\n",
    "***R = [[1,2,3,4], [2,3,4,5], [3,4,5,6], ..., [11,12,13,14]]***?"
   ]
  },
  {
   "cell_type": "code",
   "execution_count": 39,
   "id": "6f77ba10-4474-44cd-aa7c-5a6c3940e22a",
   "metadata": {},
   "outputs": [
    {
     "name": "stdout",
     "output_type": "stream",
     "text": [
      "[[ 1  2  3  4]\n",
      " [ 2  3  4  5]\n",
      " [ 3  4  5  6]\n",
      " [ 4  5  6  7]\n",
      " [ 5  6  7  8]\n",
      " [ 6  7  8  9]\n",
      " [ 7  8  9 10]\n",
      " [ 8  9 10 11]\n",
      " [ 9 10 11 12]\n",
      " [10 11 12 13]\n",
      " [11 12 13 14]]\n"
     ]
    }
   ],
   "source": [
    "Z = np.array([1, 2, 3, 4, 5, 6, 7, 8, 9, 10, 11, 12, 13, 14])\n",
    "R = np.array([Z[i:i+4] for i in range(len(Z) - 3)])\n",
    "\n",
    "print(R)"
   ]
  }
 ],
 "metadata": {
  "kernelspec": {
   "display_name": "base",
   "language": "python",
   "name": "python3"
  },
  "language_info": {
   "codemirror_mode": {
    "name": "ipython",
    "version": 3
   },
   "file_extension": ".py",
   "mimetype": "text/x-python",
   "name": "python",
   "nbconvert_exporter": "python",
   "pygments_lexer": "ipython3",
   "version": "3.12.3"
  }
 },
 "nbformat": 4,
 "nbformat_minor": 5
}
